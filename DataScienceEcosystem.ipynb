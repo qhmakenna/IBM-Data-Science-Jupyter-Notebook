{
 "cells": [
  {
   "cell_type": "markdown",
   "id": "e3d5adb8",
   "metadata": {},
   "source": [
    "# H1: Data Science Tools and Ecosystem"
   ]
  },
  {
   "cell_type": "markdown",
   "id": "8d92d3f4",
   "metadata": {},
   "source": [
    "In this notebook, Data Science Tools and Ecosystem are summarized."
   ]
  },
  {
   "cell_type": "markdown",
   "id": "48fc52c9",
   "metadata": {},
   "source": [
    "**Objectives:**\n",
    "- List popular languages for Data Science\n",
    "- List commonly used libraries for Data Science\n",
    "- List Data Science tools\n",
    "- Examples of arithmetic expressions"
   ]
  },
  {
   "cell_type": "markdown",
   "id": "e31b4d4c",
   "metadata": {},
   "source": [
    "**Some of the popular languages that Data Scientists use are:**"
   ]
  },
  {
   "cell_type": "markdown",
   "id": "fb791bee",
   "metadata": {},
   "source": [
    "1. Python\n",
    "2. SQL\n",
    "3. R\n",
    "4. C++"
   ]
  },
  {
   "cell_type": "markdown",
   "id": "590064f5",
   "metadata": {},
   "source": [
    "**Some of the commonly used libraries used by Data Scientists are:**"
   ]
  },
  {
   "cell_type": "markdown",
   "id": "53b6cf2b",
   "metadata": {},
   "source": [
    "1. Pandas\n",
    "2. Apache Spark\n",
    "3. NumPy\n",
    "4. Matlib"
   ]
  },
  {
   "cell_type": "markdown",
   "id": "cb5da942",
   "metadata": {},
   "source": [
    "| Data Science Tools |\n",
    "| ------------------ |\n",
    "| PyTorch |\n",
    "| TensorFlow |\n",
    "| Seaborn |"
   ]
  },
  {
   "cell_type": "markdown",
   "id": "cbf01529",
   "metadata": {},
   "source": [
    "### H3: Below are a few examples of evaluating arithmetic expressions in python."
   ]
  },
  {
   "cell_type": "code",
   "execution_count": 2,
   "id": "f6decdf1",
   "metadata": {},
   "outputs": [],
   "source": [
    "# This is a simple arithmetic expression to multiply then add integers."
   ]
  },
  {
   "cell_type": "code",
   "execution_count": 3,
   "id": "0159ef2d",
   "metadata": {},
   "outputs": [
    {
     "data": {
      "text/plain": [
       "17"
      ]
     },
     "execution_count": 3,
     "metadata": {},
     "output_type": "execute_result"
    }
   ],
   "source": [
    "(3*4)+5"
   ]
  },
  {
   "cell_type": "code",
   "execution_count": 4,
   "id": "502fa287",
   "metadata": {},
   "outputs": [],
   "source": [
    "# This will convert 200 minutes to hours by dividing by 60."
   ]
  },
  {
   "cell_type": "code",
   "execution_count": 7,
   "id": "2acb050e",
   "metadata": {},
   "outputs": [],
   "source": [
    "minutes = 200\n",
    "hours = minutes / 60"
   ]
  },
  {
   "cell_type": "markdown",
   "id": "47c44aec",
   "metadata": {},
   "source": [
    "## H2: Author\n",
    "Makenna Harris"
   ]
  },
  {
   "cell_type": "code",
   "execution_count": null,
   "id": "7b25b5c4",
   "metadata": {},
   "outputs": [],
   "source": []
  }
 ],
 "metadata": {
  "kernelspec": {
   "display_name": "Python 3 (ipykernel)",
   "language": "python",
   "name": "python3"
  },
  "language_info": {
   "codemirror_mode": {
    "name": "ipython",
    "version": 3
   },
   "file_extension": ".py",
   "mimetype": "text/x-python",
   "name": "python",
   "nbconvert_exporter": "python",
   "pygments_lexer": "ipython3",
   "version": "3.11.5"
  }
 },
 "nbformat": 4,
 "nbformat_minor": 5
}
